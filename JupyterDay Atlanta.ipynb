{
 "cells": [
  {
   "cell_type": "code",
   "execution_count": 1,
   "metadata": {
    "collapsed": true
   },
   "outputs": [],
   "source": [
    "from nbconvert import export_html"
   ]
  },
  {
   "cell_type": "code",
   "execution_count": 2,
   "metadata": {
    "collapsed": false
   },
   "outputs": [],
   "source": [
    "def chill(): \n",
    "    with open('index.html', 'w') as f: f.write(\"\"\"---\\n---\\n\"\"\"+export_html('JupyterDay Atlanta.ipynb')[0])"
   ]
  },
  {
   "cell_type": "markdown",
   "metadata": {},
   "source": [
    "<link rel=\"icon\" type=\"image/png\" href=\"https://jupyter.org/favicon.ico\" />\n",
    "\n",
    "<div class=\"row\">\n",
    "    <div class=\"col-md-9\">\n",
    "        <h1 style=\"font-size: 4rem; font-weight: 400;\">\n",
    "            <small>#</small>JupyterDay Atlanta 2016</h1>\n",
    "        <h2 style=\"font-weight: 100\">August 13</h2>\n",
    "    </div>\n",
    "    <div class=\"col-md-3\" style=\"margin: 2rem 0 0 0;\">\n",
    "        <a href=\"https://github.com/jupyterday-atlanta-2016\"\n",
    "            style=\"text-decoration: none;\">\n",
    "           <img src=\"https://octodex.github.com/images/baracktocat.jpg\" \n",
    "               class=\"pull-left\"\n",
    "               style=\"width:4rem; margin: 0 1rem 0 0;\"/>\n",
    "           <p style=\"vertical-align: center; font-weight: 200; margin: 0 5px 0 10px;\">\n",
    "               JupyterDay Atlanta<br/>\n",
    "               on Github\n",
    "           </p>\n",
    "        </a>\n",
    "    </div>\n",
    "</div>\n",
    "\n",
    "<hr/>\n",
    "\n",
    "<div class=\"row\">\n",
    "    <div class=\"col-md-9\">\n",
    "        <a href=\"http://gtri.gatech.edu/conference-center\"\n",
    "            style=\"text-decoration: none;  font-weight: 300;\">\n",
    "          Georgia Tech Research Institute <br/> Conference Center\n",
    "        </a>\n",
    "    </div>\n",
    "    <div class=\"col-md-3\">\n",
    "        <a href=\"https://goo.gl/maps/dr67DNbf4Y42\"\n",
    "            style=\"text-decoration: none;  font-weight: 200;\">\n",
    "        250 14th Street, NW<br/>\n",
    "        Atlanta, Georgia 30318\n",
    "        </a>\n",
    "    </div>\n",
    "</div>\n",
    "\n",
    "<hr/>"
   ]
  },
  {
   "cell_type": "markdown",
   "metadata": {},
   "source": [
    "<div class=\"row\">\n",
    "    <div class=\"col-md-8\">\n",
    "    <div class=\"alert alert-info row\">\n",
    "        <a href=\"https://generalassemb.ly/education/happy-hour-meet-and-greet-with-core-jupyter-developers/atlanta/28067\"\n",
    "            style=\"text-decoration: none;  font-weight: 200;\">\n",
    "              <strong>JupyterDay Kick off Event at General Assembly!</strong>\n",
    "        </a>\n",
    "        </div>\n",
    "    <div class=\"alert alert-success row\">\n",
    "        <a href=\"https://www.eventbrite.com/e/jupyterday-atlanta-2016-tickets-26712278143\"\n",
    "            style=\"text-decoration: none;  font-weight: 200;\">\n",
    "              <strong>🎫 Tickets on 💸 sale,⚡️ NOW! </strong>\n",
    "        </a>\n",
    "        </div>\n",
    "    </div>\n",
    "    <div class=\"col-md-offset-1 col-md-3\">\n",
    "        <p>\n",
    "        <span href=\"https://docs.google.com/forms/d/14Kq65Xt8tWrUSMZF4vpnIYR96Vgs-7uLludFPn87EFU/viewform\"\n",
    "            style=\"text-decoration: none;  font-weight: 200;\">\n",
    "            Open the form\n",
    "        </span>\n",
    "        </p>\n",
    "        <a href=\"https://github.com/jupyterday-atlanta-2016/proposals/issues\"\n",
    "            style=\"text-decoration: none;  font-weight: 200;\">            \n",
    "             <img src=\"https://octodex.github.com/images/riddlocat.png\" \n",
    "               class=\"pull-left\"\n",
    "               style=\"width:4rem; margin: 0 1rem 0 0;\"/>\n",
    "           <p style=\"vertical-align: center; font-weight: 200; margin: 0 5px 0 10px;\">\n",
    "               Submit a proposal <br/> on Github\n",
    "           </p>\n",
    "        </a>\n",
    "    </div>\n",
    "</div>\n",
    "\n",
    "---"
   ]
  },
  {
   "cell_type": "markdown",
   "metadata": {
    "variables": {
     "info.affiliation": {},
     "info.bio| markdownify": {},
     "info.github": {},
     "info.linkedin": {},
     "info.name": {},
     "info.photo": {},
     "info.twitter": {}
    }
   },
   "source": [
    "## Open Source is the Medium of Innovation _<small>Panel Discussion</small>_\n",
    "\n",
    "<div class=\"row speakers\">\n",
    "{% for panelist in site.data.panelists %}{% if panelist[0] != 'johnsmith' %}\n",
    "    {% assign info=panelist[1] %}    \n",
    "<div class=\"col col-md-4\">\n",
    "    <div style=\"margin-left: 10px; margin-right: 10px;\">\n",
    "        <hr/>\n",
    "        <h3 class=\"text-center\" id=\"{{speakers[0]}}\">{{info.name}} <small> \n",
    "        {% if info.twitter %}<a href=\"http://twitter.com/{{info.twitter}}\" target=\"_blank\"><i class=\"fa fa-twitter fa-4\" aria-hidden=\"true\"></i></a>{% endif %}\n",
    "        {% if info.github %}<a href=\"http://github.com/{{info.github}}\" target=\"_blank\"><i class=\"fa fa-github fa-4\" aria-hidden=\"true\"></i></a>{% endif %}\n",
    "        {% if info.linkedin %}<a href=\"http://linkedin.com/in/{{info.linkedin}}\" target=\"_blank\"><i class=\"fa fa-linkedin fa-4\" aria-hidden=\"true\"></i></a>{% endif %}\n",
    "        <br/>{{info.affiliation}}</small></h3>\n",
    "        <img src=\"{{info.photo}}\" style=\"width: 80px; border-radius: 50%\"/>\n",
    "        <hr/>\n",
    "        <div style=\"text-align: justify\">{{info.bio| markdownify}}</div>\n",
    "    </div>\n",
    "</div>\n",
    " {% endif %}{% endfor %}\n",
    "</div>\n"
   ]
  },
  {
   "cell_type": "code",
   "execution_count": 3,
   "metadata": {
    "collapsed": true
   },
   "outputs": [],
   "source": [
    "chill()"
   ]
  },
  {
   "cell_type": "markdown",
   "metadata": {
    "collapsed": true,
    "variables": {
     "info.abstract| markdownify": {},
     "info.affiliation": {},
     "info.github": {},
     "info.linkedin": {},
     "info.name": {},
     "info.photo": {},
     "info.title": {},
     "info.twitter": {}
    }
   },
   "source": [
    "## Speakers\n",
    "\n",
    "> In no particular order.\n",
    "\n",
    "<div class=\"row speakers\">\n",
    "{% for speakers in site.data.speakers %}{% if speakers[0] != 'johnsmith' %}\n",
    "    {% assign info=speakers[1] %}\n",
    "    \n",
    "    \n",
    "<div class=\"col col-md-10 pull-{% cycle 'left', 'right' %}\">\n",
    "        <hr>\n",
    "        <h3 class=\"text-center\" id=\"{{speakers[0]}}\">{{info.name}} <small> \n",
    "        {% if info.twitter %}<a href=\"http://twitter.com/{{info.twitter}}\" target=\"_blank\"><i class=\"fa fa-twitter fa-4\" aria-hidden=\"true\"></i></a>{% endif %}\n",
    "        {% if info.github %}<a href=\"http://github.com/{{info.github}}\" target=\"_blank\"><i class=\"fa fa-github fa-4\" aria-hidden=\"true\"></i></a>{% endif %}\n",
    "        {% if info.linkedin %}<a href=\"http://linkedin.com/in/{{info.linkedin}}\" target=\"_blank\"><i class=\"fa fa-linkedin fa-4\" aria-hidden=\"true\"></i></a>{% endif %}\n",
    "        <br/>{{info.affiliation}}</small></h3>\n",
    "        <img src=\"{{info.photo}}\" style=\"border-radius: 50%\"/>\n",
    "        <h4 class=\"text-center\"><a href=\"#{{info.title | replace:' ', '-'}}\"><i>{{info.title}}</i></a></h4>\n",
    "        <hr/>\n",
    "        <div style=\"text-align: justify\">{{info.abstract| markdownify}}</div>\n",
    "</div>\n",
    " {% endif %}{% endfor %}\n",
    "</div>"
   ]
  },
  {
   "cell_type": "markdown",
   "metadata": {},
   "source": [
    "## Sessions\n",
    "\n",
    "---\n",
    "\n",
    "* __9:00am - 9:15am__ — Coffee and Donuts provided by Continuum Analytics\n",
    "* __9:15am - 10am__ — Panel discussion _Open Source is the Medium of Innovation_\n",
    "* __10am - 12pm__ — Case studies from Paco Nathan (O'Reilly Media), Chris Calloway(PyData Carolinas), Stephen Welch (Bob Ross of Machine Learning)\n",
    "* __12pm - 1pm__ — Lunch provided by O'Reilly Media\n",
    "* __1pm - 1:30pm__ — Carol Willing - JupyterHub: A \"Thing Explainer\" overview\n",
    "* __1:30pm - 4:45pm__ — Workshops coding in several tracks with data sets, demos, code starting-points on GitHub\n",
    "    * _Up and Running_: Learning & Deploying The Jupyter Stack\n",
    "    * _Notebooks for Science_: Exploration, Publication, and Reproducibility\n",
    "    * _BYOC_: Bring Your Code Own Code (to Jupyter)\n",
    "* __4:15pm - 4:30 pm__ — Coffee Break\n",
    "* __4:30pm - 5pm__ Steven Silvester - Walkthrough of the New JupyterLab!\n",
    "* __5pm - 5:30pm__ — Town Hall"
   ]
  },
  {
   "cell_type": "markdown",
   "metadata": {},
   "source": [
    "## Workshops\n",
    "\n",
    "---"
   ]
  },
  {
   "cell_type": "markdown",
   "metadata": {
    "collapsed": true,
    "variables": {
     "info.abstract| markdownify": {},
     "info.affiliation": {},
     "info.github": {},
     "info.linkedin": {},
     "info.name": {},
     "info.photo": {},
     "info.title": {},
     "info.twitter": {}
    }
   },
   "source": [
    "### Notebooks for Science\n",
    "<!--Odd number of speakers {% cycle 'left', 'right' %}-->\n",
    "<div class=\"row science-workshop\">\n",
    "{% for speakers in site.data.science %}\n",
    "    {% assign info=speakers[1] %}\n",
    "<div class=\"row\">\n",
    "<div class=\"col col-md-10 pull-{% cycle 'left', 'right' %}\">\n",
    "        <hr>\n",
    "    <h3 class=\"text-center\" id=\"{{speakers[0]}}\">{{info.name}} <small> \n",
    "    {% if info.twitter %}<a href=\"http://twitter.com/{{info.twitter}}\" target=\"_blank\"><i class=\"fa fa-twitter fa-4\" aria-hidden=\"true\"></i></a>{% endif %}\n",
    "    {% if info.github %}<a href=\"http://github.com/{{info.github}}\" target=\"_blank\"><i class=\"fa fa-github fa-4\" aria-hidden=\"true\"></i></a>{% endif %}\n",
    "    {% if info.linkedin %}<a href=\"http://linkedin.com/in/{{info.linkedin}}\" target=\"_blank\"><i class=\"fa fa-linkedin fa-4\" aria-hidden=\"true\"></i></a>{% endif %}\n",
    "    <br/>{{info.affiliation}}</small></h3>\n",
    "    <img src=\"{{info.photo}}\" style=\"border-radius: 50%\"/>\n",
    "    <h4 class=\"text-center\"><a href=\"#{{info.title | replace:' ', '-'}}\"><i>{{info.title}}</i></a></h4>\n",
    "    <hr/>\n",
    "    <div style=\"text-align: justify\">{{info.abstract| markdownify}}</div>\n",
    "</div>\n",
    "</div>\n",
    "{% endfor %}\n",
    "</div>"
   ]
  },
  {
   "cell_type": "markdown",
   "metadata": {},
   "source": [
    "### Up and Running with Jupyter\n",
    "\n",
    "---\n",
    "\n",
    "<div class=\"row\">\n",
    "    <div class=\"col col-offset-xs-4 col-xs-2\">\n",
    "        <img src=\"{{site.data.panelists.carolwilling.photo}}\" style=\"border-radius: 50%;\"/>\n",
    "    </div>\n",
    "    <div class=\"col col-xs-2\">\n",
    "        <img src=\"{{site.data.speakers.paconathan.photo}}\" style=\"border-radius: 50%\"/>\n",
    "    </div>\n",
    "</div>\n",
    "\n",
    "In this workshop, __Carol Willing__ and __Paco Nathan__ guide you through the Jupyter universe. \n",
    "\n",
    "* How do I get started with Jupyter?  \n",
    "* How do I supercharge my notebooks?  \n",
    "* How do I share my work with friends and colleagues?  \n",
    "\n",
    "Join this session to power up your notebook skills! "
   ]
  },
  {
   "cell_type": "markdown",
   "metadata": {
    "collapsed": true,
    "variables": {
     "info.abstract| markdownify": {},
     "info.affiliation": {},
     "info.github": {},
     "info.linkedin": {},
     "info.name": {},
     "info.photo": {},
     "info.title": {},
     "info.twitter": {}
    }
   },
   "source": [
    "### Bring Own Code To Jupyter\n",
    "<div class=\"row science-workshop\">\n",
    "{% for speakers in site.data.code %}\n",
    "    {% assign info=speakers[1] %}\n",
    "\n",
    "<div class=\"row\">\n",
    "<div class=\"col col-md-10 pull-{% cycle 'left', 'right' %}\">\n",
    "    <hr/>\n",
    "    <h3 class=\"text-center\" id=\"{{speakers[0]}}\">{{info.name}} <small> \n",
    "    {% if info.twitter %}<a href=\"http://twitter.com/{{info.twitter}}\" target=\"_blank\"><i class=\"fa fa-twitter fa-4\" aria-hidden=\"true\"></i></a>{% endif %}\n",
    "    {% if info.github %}<a href=\"http://github.com/{{info.github}}\" target=\"_blank\"><i class=\"fa fa-github fa-4\" aria-hidden=\"true\"></i></a>{% endif %}\n",
    "    {% if info.linkedin %}<a href=\"http://linkedin.com/in/{{info.linkedin}}\" target=\"_blank\"><i class=\"fa fa-linkedin fa-4\" aria-hidden=\"true\"></i></a>{% endif %}\n",
    "    <br/>{{info.affiliation}}</small></h3>\n",
    "    <img src=\"{{info.photo}}\" style=\"border-radius: 50%\"/>\n",
    "    <h4 class=\"text-center\"><a href=\"#{{info.title | replace(' ', '-')}}\"><i>{{info.title}}</i></a></h4>\n",
    "    <hr/>\n",
    "    {% if info.abstract %}<div style=\"text-align: justify\">{{info.abstract| markdownify}}</div>{% endif %}\n",
    "</div>\n",
    "</div>\n",
    "{% endfor %}\n",
    "</div>"
   ]
  },
  {
   "cell_type": "code",
   "execution_count": 50,
   "metadata": {
    "collapsed": true
   },
   "outputs": [],
   "source": [
    "chill()"
   ]
  },
  {
   "cell_type": "code",
   "execution_count": 39,
   "metadata": {
    "collapsed": false
   },
   "outputs": [],
   "source": [
    "# from IPython.display import IFrame\n",
    "# IFrame(\"https://docs.google.com/forms/d/14Kq65Xt8tWrUSMZF4vpnIYR96Vgs-7uLludFPn87EFU/viewform\",width='100%',height=\"900\")"
   ]
  },
  {
   "cell_type": "markdown",
   "metadata": {},
   "source": [
    "## FAQ\n",
    "----\n",
    "\n",
    "<!--div class=\"row\">\n",
    "    <div class=\"col col-md-9\"></div>\n",
    "    <div class=\"col-md-3\" style=\"margin: 2rem 0 0 0;\">\n",
    "        <a href=\"https://github.com/jupyterday-atlanta-2016/jupyterday-atlanta-2016.github.io/issues/\"\n",
    "            style=\"text-decoration: none;\">\n",
    "           <img src=\"https://octodex.github.com/images/doctocat-brown.jpg\" \n",
    "               class=\"pull-left\"\n",
    "               style=\"width:4rem; margin: 0 1rem 0 0;\"/>\n",
    "           <p style=\"vertical-align: center; font-weight: 200; margin: 0 5px 0 10px;\">\n",
    "               Ask a question\n",
    "           </p>\n",
    "        </a>\n",
    "    </div>\n",
    "</div-->\n",
    "\n",
    "* **Is there a code of conduct?**\n",
    "\n",
    "> The [Code of Conduct](https://github.com/jupyterday-atlanta-2016/jupyterday-atlanta-2016.github.io/blob/master/code_of_conduct.md) can be found in our Github repository."
   ]
  },
  {
   "cell_type": "markdown",
   "metadata": {
    "variables": {
     "sponsor.name": {},
     "sponsor.src": {},
     "sponsor.url": {}
    }
   },
   "source": [
    "## <small>Thank you to our</small> Sponsors\n",
    "---\n",
    "\n",
    "<div class=\"row\">\n",
    "{% for sponsor in site.data.sponsors %}\n",
    "<div class=\"col col-md-4 col-xs-6\" style=\"min-height: 120px;>\n",
    "    <a href=\"{{sponsor.url}}\" title=\"{{sponsor.name}}\">\n",
    "        <img alt=\"{{sponsor.name}}\"  src=\"{{sponsor.src}}\" class=\"img-responsive\" style=\"max-height: 160px;\"/>\n",
    "    </a>\n",
    "</div>\n",
    "{% endfor %}\n",
    "</div>"
   ]
  },
  {
   "cell_type": "code",
   "execution_count": 40,
   "metadata": {
    "collapsed": true
   },
   "outputs": [],
   "source": [
    "chill()"
   ]
  },
  {
   "cell_type": "code",
   "execution_count": 41,
   "metadata": {
    "collapsed": false
   },
   "outputs": [
    {
     "data": {
      "text/html": [
       "<div class=\"btn btn-default pull-right\" id=\"toggle-source\">Toggle the Source Code</div>"
      ],
      "text/plain": [
       "<IPython.core.display.HTML object>"
      ]
     },
     "metadata": {},
     "output_type": "display_data"
    }
   ],
   "source": [
    "%%html\n",
    "<div class=\"btn btn-default pull-right\" id=\"toggle-source\">Toggle the Source Code</div>"
   ]
  },
  {
   "cell_type": "code",
   "execution_count": 56,
   "metadata": {
    "collapsed": false
   },
   "outputs": [
    {
     "data": {
      "application/javascript": [
       "$(document).ready(function(){\n",
       "    $('#toggle-source').click(function(){\n",
       "        \n",
       "            $('.code_cell .input').toggle();\n",
       "    });\n",
       "    if (window.location.port != \"8888\"){\n",
       "        $('#toggle-source').click()\n",
       "    };\n",
       "})"
      ],
      "text/plain": [
       "<IPython.core.display.Javascript object>"
      ]
     },
     "metadata": {},
     "output_type": "display_data"
    }
   ],
   "source": [
    "%%javascript\n",
    "$(document).ready(function(){\n",
    "    $('#toggle-source').click(function(){\n",
    "        \n",
    "            $('.c4ode_cell .input').toggle();\n",
    "    });\n",
    "    if (window.location.port != \"8888\"){\n",
    "        $('#toggle-source').click()\n",
    "    };\n",
    "})"
   ]
  },
  {
   "cell_type": "code",
   "execution_count": 32,
   "metadata": {
    "collapsed": false
   },
   "outputs": [
    {
     "data": {
      "text/html": [
       "<style>\n",
       "@import url(\"https://maxcdn.bootstrapcdn.com/font-awesome/4.6.3/css/font-awesome.min.css\");\n",
       ".speakers .rendered_html p {\n",
       "    text-align: justify;\n",
       "}\n",
       "</style>"
      ],
      "text/plain": [
       "<IPython.core.display.HTML object>"
      ]
     },
     "metadata": {},
     "output_type": "display_data"
    }
   ],
   "source": [
    "%%html\n",
    "<style>\n",
    "@import url(\"https://maxcdn.bootstrapcdn.com/font-awesome/4.6.3/css/font-awesome.min.css\");\n",
    ".speakers .rendered_html p {\n",
    "    text-align: justify;\n",
    "}\n",
    "</style>"
   ]
  }
 ],
 "metadata": {
  "anaconda-cloud": {},
  "kernelspec": {
   "display_name": "Python [Root]",
   "language": "python",
   "name": "Python [Root]"
  },
  "language_info": {
   "codemirror_mode": {
    "name": "ipython",
    "version": 3
   },
   "file_extension": ".py",
   "mimetype": "text/x-python",
   "name": "python",
   "nbconvert_exporter": "python",
   "pygments_lexer": "ipython3",
   "version": "3.5.2"
  },
  "widgets": {
   "state": {},
   "version": "1.1.0"
  }
 },
 "nbformat": 4,
 "nbformat_minor": 0
}

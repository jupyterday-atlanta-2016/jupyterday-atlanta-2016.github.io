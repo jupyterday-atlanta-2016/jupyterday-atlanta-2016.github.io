{
 "cells": [
  {
   "cell_type": "markdown",
   "metadata": {},
   "source": [
    "<link rel=\"icon\" type=\"image/png\" href=\"https://jupyter.org/favicon.ico\" />\n",
    "\n",
    "<div class=\"row\">\n",
    "    <div class=\"col-md-9\">\n",
    "        <h1 style=\"font-size: 4rem; font-weight: 400;\">\n",
    "            <small>#</small>JupyterDay Atlanta 2016</h1>\n",
    "        <h2 style=\"font-weight: 100\">August 13</h2>\n",
    "    </div>\n",
    "    <div class=\"col-md-3\" style=\"margin: 2rem 0 0 0;\">\n",
    "        <a href=\"https://github.com/jupyterday-atlanta-2016\"\n",
    "            style=\"text-decoration: none;\">\n",
    "           <img src=\"https://octodex.github.com/images/baracktocat.jpg\" \n",
    "               class=\"pull-left\"\n",
    "               style=\"width:4rem; margin: 0 1rem 0 0;\"/>\n",
    "           <p style=\"vertical-align: center; font-weight: 200; margin: 0 5px 0 10px;\">\n",
    "               JupyterDay Atlanta<br/>\n",
    "               on Github\n",
    "           </p>\n",
    "        </a>\n",
    "    </div>\n",
    "</div>\n",
    "\n",
    "<hr/>\n",
    "\n",
    "<div class=\"row\">\n",
    "    <div class=\"col-md-9\">\n",
    "        <a href=\"http://gtri.gatech.edu/conference-center\"\n",
    "            style=\"text-decoration: none;  font-weight: 300;\">\n",
    "          Georgia Tech Research Institute <br/> Conference Center\n",
    "        </a>\n",
    "    </div>\n",
    "    <div class=\"col-md-3\">\n",
    "        <a href=\"https://goo.gl/maps/dr67DNbf4Y42\"\n",
    "            style=\"text-decoration: none;  font-weight: 200;\">\n",
    "        250 14th Street, NW<br/>\n",
    "        Atlanta, Georgia 30318\n",
    "        </a>\n",
    "    </div>\n",
    "</div>\n",
    "\n",
    "<hr/>"
   ]
  },
  {
   "cell_type": "markdown",
   "metadata": {},
   "source": [
    "<div class=\"row\">\n",
    "    <div class=\"col-md-6\">\n",
    "    <div class=\"alert alert-success\">\n",
    "        <a href=\"https://www.eventbrite.com/e/jupyterday-atlanta-2016-tickets-26712278143\"\n",
    "            style=\"text-decoration: none;  font-weight: 200;\">\n",
    "              <strong>Tickets on sale, NOW!</strong>\n",
    "        </a>\n",
    "        </div>\n",
    "    </div>\n",
    "    <div class=\"col-md-offset-3 col-md-3\">\n",
    "        <p>\n",
    "        <span href=\"https://docs.google.com/forms/d/14Kq65Xt8tWrUSMZF4vpnIYR96Vgs-7uLludFPn87EFU/viewform\"\n",
    "            style=\"text-decoration: none;  font-weight: 200;\">\n",
    "            Open the form\n",
    "        </span>\n",
    "        </p>\n",
    "        <a href=\"https://github.com/jupyterday-atlanta-2016/proposals/issues\"\n",
    "            style=\"text-decoration: none;  font-weight: 200;\">            \n",
    "             <img src=\"https://octodex.github.com/images/riddlocat.png\" \n",
    "               class=\"pull-left\"\n",
    "               style=\"width:4rem; margin: 0 1rem 0 0;\"/>\n",
    "           <p style=\"vertical-align: center; font-weight: 200; margin: 0 5px 0 10px;\">\n",
    "               Submit a proposal <br/> on Github\n",
    "           </p>\n",
    "        </a>\n",
    "    </div>\n",
    "</div>\n",
    "\n",
    "---"
   ]
  },
  {
   "cell_type": "markdown",
   "metadata": {
    "collapsed": true,
    "variables": {
     "info.abstract| markdownify": {},
     "info.affiliation": {},
     "info.github": {},
     "info.linkedin": {},
     "info.name": {},
     "info.photo": {},
     "info.title": {},
     "info.twitter": {}
    }
   },
   "source": [
    "## Speakers\n",
    "---\n",
    "<div class=\"row speakers\">\n",
    "{% for speakers in site.data.speakers %}{% if speakers[0] != 'johnsmith' %}\n",
    "    {% assign info=speakers[1] %}\n",
    "    \n",
    "    \n",
    "<div class=\"col col-md-6\">\n",
    "    <div style=\"margin-{% cycle 'right', 'left' %}: 20px;\">\n",
    "        <h3 class=\"text-center\" id=\"{{speakers[0]}}\">{{info.name}} <small> \n",
    "        {% if info.twitter %}<a href=\"http://twitter.com/{{info.twitter}}\" target=\"_blank\"><i class=\"fa fa-twitter fa-4\" aria-hidden=\"true\"></i></a>{% endif %}\n",
    "        {% if info.github %}<a href=\"http://github.com/{{info.github}}\" target=\"_blank\"><i class=\"fa fa-github fa-4\" aria-hidden=\"true\"></i></a>{% endif %}\n",
    "        {% if info.linkedin %}<a href=\"http://linkedin.com/in/{{info.linkedin}}\" target=\"_blank\"><i class=\"fa fa-linkedin fa-4\" aria-hidden=\"true\"></i></a>{% endif %}\n",
    "        <br/>{{info.affiliation}}</small></h3>\n",
    "        <img src=\"{{info.photo}}&s=80\" style=\"border-radius: 50%\"/>\n",
    "        <h4 class=\"text-center\"><i>{{info.title}}</i></h4>\n",
    "        <hr/>\n",
    "        <div style=\"text-align: justify\">{{info.abstract| markdownify}}</div>\n",
    "    </div>\n",
    "</div>\n",
    " {% endif %}{% endfor %}\n",
    "</div>\n",
    "\n",
    "---\n",
    "> More talks will be posted as speakers get accepted."
   ]
  },
  {
   "cell_type": "markdown",
   "metadata": {},
   "source": [
    "## Sessions\n",
    "\n",
    "---\n",
    "\n",
    "<div class=\"row\">\n",
    "<div class=\"col col-md-4\">\n",
    "    <h3>Morning</h3>\n",
    "    <blockquote>\n",
    "        <ul>\n",
    "            <li>Panel Discussion</li>\n",
    "            <li>Highlight Talks</li>\n",
    "            <li>Case Studies</li>\n",
    "            </ul>\n",
    "    </blockquote>\n",
    "    </div>\n",
    "<div class=\"col col-md-4\">\n",
    "    <h3>Afternoon</h3>\n",
    "    <blockquote>\n",
    "        <ul>\n",
    "            <li>Workshops</li>\n",
    "            <li>Topics, Tools, &amp; Demos</li>\n",
    "            <li>Problems, Datasets &amp; Code</li>\n",
    "            </ul>\n",
    "        </blockquote>\n",
    "    </div>\n",
    "<div class=\"col col-md-4\">\n",
    "    <h3>Late Afternoon</h3>\n",
    "    <blockquote>\n",
    "        <ul>\n",
    "            <li>Lightning Talks</li>\n",
    "            <li>Town Hall</li>\n",
    "            </ul>\n",
    "        </blockquote>\n",
    "    </div>\n",
    "</div>"
   ]
  },
  {
   "cell_type": "code",
   "execution_count": 58,
   "metadata": {
    "collapsed": false
   },
   "outputs": [
    {
     "data": {
      "text/html": [
       "\n",
       "        <iframe\n",
       "            width=\"100%\"\n",
       "            height=\"900\"\n",
       "            src=\"https://docs.google.com/forms/d/14Kq65Xt8tWrUSMZF4vpnIYR96Vgs-7uLludFPn87EFU/viewform\"\n",
       "            frameborder=\"0\"\n",
       "            allowfullscreen\n",
       "        ></iframe>\n",
       "        "
      ],
      "text/plain": [
       "<IPython.lib.display.IFrame at 0x108ca62e8>"
      ]
     },
     "execution_count": 58,
     "metadata": {},
     "output_type": "execute_result"
    }
   ],
   "source": [
    "from IPython.display import IFrame\n",
    "IFrame(\"https://docs.google.com/forms/d/14Kq65Xt8tWrUSMZF4vpnIYR96Vgs-7uLludFPn87EFU/viewform\",width='100%',height=\"900\")"
   ]
  },
  {
   "cell_type": "markdown",
   "metadata": {},
   "source": [
    "## FAQ\n",
    "----\n",
    "\n",
    "<div class=\"row\">\n",
    "    <div class=\"col col-md-9\"></div>\n",
    "    <div class=\"col-md-3\" style=\"margin: 2rem 0 0 0;\">\n",
    "        <a href=\"https://github.com/jupyterday-atlanta-2016/jupyterday-atlanta-2016.github.io/issues/\"\n",
    "            style=\"text-decoration: none;\">\n",
    "           <img src=\"https://octodex.github.com/images/doctocat-brown.jpg\" \n",
    "               class=\"pull-left\"\n",
    "               style=\"width:4rem; margin: 0 1rem 0 0;\"/>\n",
    "           <p style=\"vertical-align: center; font-weight: 200; margin: 0 5px 0 10px;\">\n",
    "               Ask a question\n",
    "           </p>\n",
    "        </a>\n",
    "    </div>\n",
    "</div>"
   ]
  },
  {
   "cell_type": "markdown",
   "metadata": {
    "variables": {
     "sponsor.name": {},
     "sponsor.src": {},
     "sponsor.url": {}
    }
   },
   "source": [
    "## Sponsors\n",
    "---\n",
    "\n",
    "<div class=\"row\">\n",
    "{% for sponsor in site.data.sponsors %}\n",
    "<div class=\"col col-md-3 col-xs-5 {% if forloop.first %}{% else %} col-md-offset-1 col-xs-offset-1{% endif %}\">\n",
    "    <a href=\"{{sponsor.url}}\" title=\"{{sponsor.name}}\">\n",
    "        <img alt=\"{{sponsor.name}}\" src=\"{{sponsor.src}}\" width=\"100%\"/>\n",
    "    </a>\n",
    "</div>\n",
    "{% endfor %}\n",
    "</div>"
   ]
  },
  {
   "cell_type": "code",
   "execution_count": 54,
   "metadata": {
    "collapsed": false
   },
   "outputs": [
    {
     "data": {
      "text/html": [
       "<div class=\"btn btn-default pull-right\" id=\"toggle-source\">Toggle the Source Code</div>"
      ],
      "text/plain": [
       "<IPython.core.display.HTML object>"
      ]
     },
     "metadata": {},
     "output_type": "display_data"
    }
   ],
   "source": [
    "%%html\n",
    "<div class=\"btn btn-default pull-right\" id=\"toggle-source\">Toggle the Source Code</div>"
   ]
  },
  {
   "cell_type": "code",
   "execution_count": 59,
   "metadata": {
    "collapsed": false
   },
   "outputs": [],
   "source": [
    "with open('index.html', 'w') as f: from nbconvert import export_html; f.write(\"\"\"---\\n---\\n\"\"\"+export_html('JupyterDay Atlanta.ipynb')[0])"
   ]
  },
  {
   "cell_type": "code",
   "execution_count": 56,
   "metadata": {
    "collapsed": false
   },
   "outputs": [
    {
     "data": {
      "application/javascript": [
       "$(document).ready(function(){\n",
       "    $('#toggle-source').click(function(){\n",
       "        \n",
       "            $('.code_cell .input').toggle();\n",
       "    });\n",
       "    if (window.location.port != \"8888\"){\n",
       "        $('#toggle-source').click()\n",
       "    };\n",
       "})"
      ],
      "text/plain": [
       "<IPython.core.display.Javascript object>"
      ]
     },
     "metadata": {},
     "output_type": "display_data"
    }
   ],
   "source": [
    "%%javascript\n",
    "$(document).ready(function(){\n",
    "    $('#toggle-source').click(function(){\n",
    "        \n",
    "            $('.code_cell .input').toggle();\n",
    "    });\n",
    "    if (window.location.port != \"8888\"){\n",
    "        $('#toggle-source').click()\n",
    "    };\n",
    "})"
   ]
  },
  {
   "cell_type": "code",
   "execution_count": 32,
   "metadata": {
    "collapsed": false
   },
   "outputs": [
    {
     "data": {
      "text/html": [
       "<style>\n",
       "@import url(\"https://maxcdn.bootstrapcdn.com/font-awesome/4.6.3/css/font-awesome.min.css\");\n",
       ".speakers .rendered_html p {\n",
       "    text-align: justify;\n",
       "}\n",
       "</style>"
      ],
      "text/plain": [
       "<IPython.core.display.HTML object>"
      ]
     },
     "metadata": {},
     "output_type": "display_data"
    }
   ],
   "source": [
    "%%html\n",
    "<style>\n",
    "@import url(\"https://maxcdn.bootstrapcdn.com/font-awesome/4.6.3/css/font-awesome.min.css\");\n",
    ".speakers .rendered_html p {\n",
    "    text-align: justify;\n",
    "}\n",
    "</style>"
   ]
  }
 ],
 "metadata": {
  "anaconda-cloud": {},
  "kernelspec": {
   "display_name": "Python [Root]",
   "language": "python",
   "name": "Python [Root]"
  },
  "language_info": {
   "codemirror_mode": {
    "name": "ipython",
    "version": 3
   },
   "file_extension": ".py",
   "mimetype": "text/x-python",
   "name": "python",
   "nbconvert_exporter": "python",
   "pygments_lexer": "ipython3",
   "version": "3.5.1"
  },
  "widgets": {
   "state": {},
   "version": "1.1.0"
  }
 },
 "nbformat": 4,
 "nbformat_minor": 0
}
